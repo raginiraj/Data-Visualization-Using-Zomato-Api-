{
 "cells": [
  {
   "cell_type": "markdown",
   "metadata": {},
   "source": [
    "### Mexican cuisine began about 9,000 years ago, when agricultural communities such as the Maya formed, domesticating maize, creating the standard process of corn nixtamalization, and establishing their foodways.\n",
    "### You are a huge fan of ‘Mexican’ cuisine. Now using the Zomato API you want to analyse the best restaurant serving the Mexican Cuisine, their locations, and cost for two, etc.\n",
    "### There is a list of questions related to Mexican cuisines given in the next section."
   ]
  },
  {
   "cell_type": "markdown",
   "metadata": {},
   "source": [
    "## Fetch the cuisine_id of ‘Mexican’ cuisine using Zomato API. Print the cuisine_id."
   ]
  },
  {
   "cell_type": "code",
   "execution_count": 1,
   "metadata": {},
   "outputs": [
    {
     "name": "stdout",
     "output_type": "stream",
     "text": [
      "73\n"
     ]
    }
   ],
   "source": [
    "import requests\n",
    "import json\n",
    "userkey= 'genrated API KEY'\n",
    "basic_api='https://developers.zomato.com/api/v2.1'\n",
    "header={'user-key': userkey,'ACCEPT':'application/json','User-agent':'curl/7.43.0'}\n",
    "para={'city_id':1}\n",
    "response=requests.get(basic_api+'/cuisines',params=para,headers=header)\n",
    "data=response.json()\n",
    "data1=data.get('cuisines')\n",
    "for i in data1:\n",
    "    if i.get('cuisine').get('cuisine_name')=='Mexican':\n",
    "        print(i.get('cuisine').get('cuisine_id'))\n",
    "        break\n"
   ]
  },
  {
   "cell_type": "markdown",
   "metadata": {},
   "source": [
    "### Fetch the entityid and entitytype of place Connaught Place.Print the entityid and entitytype,"
   ]
  },
  {
   "cell_type": "code",
   "execution_count": 2,
   "metadata": {},
   "outputs": [
    {
     "name": "stdout",
     "output_type": "stream",
     "text": [
      "subzone   104\n"
     ]
    }
   ],
   "source": [
    "para={'query':'Connaught Place'}\n",
    "res=requests.get(basic_api+'/locations',params=para,headers=header)\n",
    "data=res.json()\n",
    "data=data['location_suggestions']\n",
    "entity_id=data[0].get('entity_id')\n",
    "entity_type=data[0].get('entity_type')\n",
    "print(entity_type,' ',entity_id)"
   ]
  },
  {
   "cell_type": "markdown",
   "metadata": {},
   "source": [
    "### Fetch the top 10 best-rated restaurant serving ‘Mexican’ cuisine present in Connaught Place.Print the restaurant name, user rating and restaurant id."
   ]
  },
  {
   "cell_type": "code",
   "execution_count": 3,
   "metadata": {},
   "outputs": [
    {
     "name": "stdout",
     "output_type": "stream",
     "text": [
      "Farzi Cafe 4.5 18233593\n",
      "Ministry Of Beer 4.4 18418277\n",
      "Lord Of The Drinks 4.4 312603\n",
      "Chili's Grill & Bar 4.4 18537536\n",
      "Warehouse Cafe 4.3 301605\n",
      "Xero Degrees 4.3 18729557\n",
      "Local 4.3 18382360\n",
      "The Junkyard Cafe 4.3 313256\n",
      "Teddy Boy 4.3 18281985\n",
      "Openhouse Cafe 4.3 312601\n"
     ]
    }
   ],
   "source": [
    "para={'entity_id': '104','entity_type':'subzone','cuisines':'73','count':'10','sort':'rating','order':'desc'}\n",
    "res=requests.get(basic_api+'/search',params=para,headers=header)\n",
    "data=res.json()\n",
    "data=data['restaurants']\n",
    "for i in data:\n",
    "    i=i['restaurant']\n",
    "    name=i['name']\n",
    "    id=i['R']['res_id']\n",
    "    rating=i['user_rating']['aggregate_rating']\n",
    "    print(name,rating,id)"
   ]
  },
  {
   "cell_type": "markdown",
   "metadata": {},
   "source": [
    "### Fetch the category id of category type ‘Cafes’ using Zomato API.Print the category_id."
   ]
  },
  {
   "cell_type": "code",
   "execution_count": 5,
   "metadata": {},
   "outputs": [
    {
     "name": "stdout",
     "output_type": "stream",
     "text": [
      "6\n"
     ]
    }
   ],
   "source": [
    "res=requests.get(basic_api+'/categories',headers=header)\n",
    "data=res.json()\n",
    "data=data['categories']\n",
    "id=0\n",
    "for i in data:\n",
    "    i=i['categories']\n",
    "    if i['name']=='Cafes':\n",
    "        id=i['id']\n",
    "        break\n",
    "print(id)"
   ]
  },
  {
   "cell_type": "markdown",
   "metadata": {},
   "source": [
    "### Fetch the best-rated restaurant for ‘Mexican’ cuisine with category type ‘ Cafes’ present in Connaught Place using Zomato API.Print the restaurant name, user rating and restaurant id."
   ]
  },
  {
   "cell_type": "code",
   "execution_count": 6,
   "metadata": {},
   "outputs": [
    {
     "name": "stdout",
     "output_type": "stream",
     "text": [
      "Xero Degrees 4.3 18729557\n",
      "Chaayos - Meri Wali Chai 4.2 18237315\n",
      "The Art House Bar n Cafe 4.0 18863766\n",
      "Cafe Coffee Day - The Square 3.5 303034\n"
     ]
    }
   ],
   "source": [
    "para={'entity_id': '104','entity_type':'subzone','cuisines':'73','category':'6','sort':'rating','order':'desc'}\n",
    "res=requests.get(basic_api+'/search',params=para,headers=header)\n",
    "data=res.json()\n",
    "data=data['restaurants']\n",
    "for i in data:\n",
    "    i=i['restaurant']\n",
    "    name=i['name']\n",
    "    id=i['R']['res_id']\n",
    "    rating=i['user_rating']['aggregate_rating']\n",
    "    print(name,rating,id)"
   ]
  },
  {
   "cell_type": "markdown",
   "metadata": {},
   "source": [
    "### Fetch the latest review of the best-rated restaurant for ‘Mexican’ cuisine with Category type ‘Cafes’ present in Connaught Place using Zomato API.Print the name of user ,user rating and review text."
   ]
  },
  {
   "cell_type": "code",
   "execution_count": 7,
   "metadata": {},
   "outputs": [
    {
     "name": "stdout",
     "output_type": "stream",
     "text": [
      "Finding_cravings 3 Food is so amazing but space is so less\n",
      "Piyush Garg 4 one of best brands in Delhi for some quick bites, specially thier burgers and waffles, shakes are worth dying for. just one drawback, very limited spacing so waiting time was long.\n",
      "Swarnica Pushkari 4 Every thing was amazing whether i talk about food quality or quantity. Just the area is small so need to wait for others to move.\n",
      "Shreya Chakraborty 5 \n",
      "Kritika Saluja 5 Amazing and affordable place with good quality food and have cozy ambience. Must try their chessy fries range, pizza and coolers.\n"
     ]
    }
   ],
   "source": [
    "para={'res_id':'18729557'}\n",
    "res=requests.get(basic_api+'/reviews',params=para,headers=header)\n",
    "data=res.json()\n",
    "data=data['user_reviews']\n",
    "for i in data:\n",
    "    i=i['review']\n",
    "    print(i['user']['name'],i['rating'],i['review_text'])"
   ]
  },
  {
   "cell_type": "markdown",
   "metadata": {},
   "source": [
    "### Distance is also a very important factor while selecting a restaurant.Note down the latitude and longitude of desired location  using Google Maps"
   ]
  },
  {
   "cell_type": "markdown",
   "metadata": {},
   "source": [
    "### Fetch the list of the top 10 restaurants serving cuisine ‘BBQ’ which are nearest to The given location .Print the restaurant name, user rating, restaurant id and locality in which restaurant is present."
   ]
  },
  {
   "cell_type": "code",
   "execution_count": 8,
   "metadata": {},
   "outputs": [
    {
     "name": "stdout",
     "output_type": "stream",
     "text": [
      "Themis Barbecue House 4.3 18204820 Netaji Subhash Place\n",
      "Barbeque Nation 4.6 9561 Netaji Subhash Place\n",
      "Amazings Kitchen 0 19370424 Prashant Vihar\n",
      "Moet's Barbeque 0 19238917 Alipur\n",
      "UBQ by Barbeque Nation 3.3 18889760 Rohini\n",
      "Kays Bar-Be-Que 4.0 3079 Ashok Vihar Phase 1\n",
      "Chicken Adda 0 19179179 Rohini\n",
      "7teen BBQ Bistro Bnq 3.9 18595610 Moti Nagar\n",
      "Pishori Chicken 0 19061375 Kirti Nagar\n",
      "Hunger On Wheels 0 19054336 Vijay Nagar\n"
     ]
    }
   ],
   "source": [
    "header={'user-key': userkey,'ACCEPT':'application/json','User-agent':'curl/7.43.0'}\n",
    "para={'lat':'28.697709','lon':'77.140616','count':'10','sort':'real_distance','radius':'4000','order':'asc','cuisines':'193'}\n",
    "res=requests.get(basic_api+'/search',params=para,headers=header)\n",
    "data=res.json()\n",
    "data=data['restaurants']\n",
    "for i in data:\n",
    "    i=i['restaurant']\n",
    "    name=i['name']\n",
    "    id=i['R']['res_id']\n",
    "    rating=i['user_rating']['aggregate_rating']\n",
    "    print(name,rating,id,i['location']['locality'])"
   ]
  },
  {
   "cell_type": "markdown",
   "metadata": {},
   "source": [
    "### Experiment with the radius parameter that is present in ‘GET/search’. Fetch the list of top 10 best-restaurant present in a radius of 4 km of Given Location. Print the restaurant name, user rating, restaurant id and locality in which restaurant is present."
   ]
  },
  {
   "cell_type": "code",
   "execution_count": 12,
   "metadata": {},
   "outputs": [
    {
     "name": "stdout",
     "output_type": "stream",
     "text": [
      "Indian Accent 4.9 2004 The Lodhi, Lodhi Road\n",
      "Cafe Lota 4.9 305525 Pragati Maidan\n",
      "The Big Chill 4.9 1614 Khan Market\n",
      "Pa Pa Ya 4.9 18429148 Select Citywalk Mall, Saket\n",
      "Kuremal Mohan Lal Kulfi Wale 4.9 303642 Chawri Bazar\n",
      "Dum-Pukht - ITC Maurya 4.9 2744 ITC Maurya, Chanakyapuri\n",
      "The Big Chill 4.9 8244 Khan Market\n",
      "Wenger's 4.8 4249 Connaught Place\n",
      "Manhattan Bar & Brewery 4.8 303960 Global Foyer Mall, Golf Course Road\n",
      "Downtown - Diners & Living Beer Cafe 4.8 4959 Sector 29\n"
     ]
    }
   ],
   "source": [
    "header={'user-key': userkey,'ACCEPT':'application/json','User-agent':'curl/7.43.0'}\n",
    "para={'lat':'28.697662','lon':'77.140622','count':'10','sort':'rating','order':'desc','radius':'4000'}\n",
    "res=requests.get(basic_api+'/search',params=para,headers=header)\n",
    "data=res.json()\n",
    "data=data['restaurants']\n",
    "for i in data:\n",
    "    i=i['restaurant']\n",
    "    name=i['name']\n",
    "    id=i['R']['res_id']\n",
    "    rating=i['user_rating']['aggregate_rating']\n",
    "    print(name,rating,id,i['location']['locality'])"
   ]
  },
  {
   "cell_type": "code",
   "execution_count": null,
   "metadata": {},
   "outputs": [],
   "source": []
  }
 ],
 "metadata": {
  "kernelspec": {
   "display_name": "Python 3",
   "language": "python",
   "name": "python3"
  },
  "language_info": {
   "codemirror_mode": {
    "name": "ipython",
    "version": 3
   },
   "file_extension": ".py",
   "mimetype": "text/x-python",
   "name": "python",
   "nbconvert_exporter": "python",
   "pygments_lexer": "ipython3",
   "version": "3.7.6"
  }
 },
 "nbformat": 4,
 "nbformat_minor": 4
}
